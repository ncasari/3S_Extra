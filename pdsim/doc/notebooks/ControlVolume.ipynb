{
 "cells": [
  {
   "cell_type": "markdown",
   "metadata": {},
   "source": [
    "## Control Volume\n",
    "\n",
    "A control volume is one the core data containers of PDSim.  It primarily contains a state class (for the thermodynamic properties) and a function that is used to obtain the volume and derivative of the volume for the control volume.  "
   ]
  },
  {
   "cell_type": "code",
   "execution_count": 39,
   "metadata": {
    "collapsed": true
   },
   "outputs": [],
   "source": [
    "## COMMON IMPORTS ##\n",
    "from __future__ import division, print_function\n",
    "import matplotlib.pyplot as plt, numpy as np\n",
    "%matplotlib inline"
   ]
  },
  {
   "cell_type": "code",
   "execution_count": 40,
   "metadata": {
    "collapsed": true
   },
   "outputs": [],
   "source": [
    "# Imports for this example\n",
    "from PDSim.core import ControlVolume\n",
    "from CoolProp.CoolProp import State"
   ]
  },
  {
   "cell_type": "code",
   "execution_count": 41,
   "metadata": {
    "collapsed": false
   },
   "outputs": [],
   "source": [
    "# Create a State instance\n",
    "state = State('R410A', dict(T=300, P=101))\n",
    "\n",
    "# The function that will return the volume and derivative of volume\n",
    "def volume_function(theta):\n",
    "    \"\"\"\n",
    "    Sinusoidal volume profile (recip-like).\n",
    "    \"\"\"\n",
    "    Vdead = 4e-6 # m^3\n",
    "    Vdisp = 20e-6 # m^3\n",
    "    V = Vdead + Vdisp/2*(1-np.cos(theta))\n",
    "    dVdtheta = Vdisp/2*np.sin(theta)\n",
    "    return V, dVdtheta\n",
    "\n",
    "# Now we create a ControlVolume instance\n",
    "CV = ControlVolume('key1', volume_function, state)"
   ]
  },
  {
   "cell_type": "code",
   "execution_count": 42,
   "metadata": {
    "collapsed": false
   },
   "outputs": [
    {
     "data": {
      "image/png": "[encoded data removed]",
      "text/plain": [
       "<matplotlib.figure.Figure at 0x1b05d470>"
      ]
     },
     "metadata": {},
     "output_type": "display_data"
    }
   ],
   "source": [
    "# Now we use the ControlVolume to plot the volume as a function of crank angle\n",
    "theta = np.linspace(0, 2*np.pi)\n",
    "V, dV = CV.V_dV(theta)\n",
    "plt.plot(theta, V*1e6)\n",
    "plt.xlabel(r'$\\theta$ (rad)')\n",
    "lb = plt.ylabel(r'$V$ (cm$^3$)')"
   ]
  },
  {
   "cell_type": "code",
   "execution_count": 43,
   "metadata": {
    "collapsed": false
   },
   "outputs": [
    {
     "name": "stdout",
     "output_type": "stream",
     "text": [
      "T:  300.0 K\n",
      "p:  101.0 kPa\n",
      "rho:  2.97716248743 kg/m^3\n"
     ]
    }
   ],
   "source": [
    "# We can then query some properties of the ControlVolume's State class\n",
    "print('T: ', CV.State.T,'K')\n",
    "print('p: ', CV.State.p,'kPa')\n",
    "print('rho: ', CV.State.rho,'kg/m^3')\n",
    "# etc..."
   ]
  }
 ],
 "metadata": {
  "kernelspec": {
   "display_name": "Python 2",
   "language": "python",
   "name": "python2"
  },
  "language_info": {
   "codemirror_mode": {
    "name": "ipython",
    "version": 2
   },
   "file_extension": ".py",
   "mimetype": "text/x-python",
   "name": "python",
   "nbconvert_exporter": "python",
   "pygments_lexer": "ipython2",
   "version": "2.7.11"
  }
 },
 "nbformat": 4,
 "nbformat_minor": 0
}
