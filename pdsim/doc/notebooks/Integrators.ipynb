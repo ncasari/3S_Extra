{
 "cells": [
  {
   "cell_type": "markdown",
   "metadata": {},
   "source": [
    "# Integrators"
   ]
  },
  {
   "cell_type": "markdown",
   "metadata": {},
   "source": [
    "Ultimately what we are trying to do is to arrive at a generalized integrator of systems of derivatives that will allow us to inject our own callback functions at the relevant times.\n",
    "\n",
    "But equivalently, we don't want to have to copy our code multiple different places to implement a different integrator.  Thus our goal is to have generalized code.  It is here that object oriented code shines.\n",
    "\n",
    "The approach is this:\n",
    "\n",
    "* Write a generalized abstract base class for an integrator that defines the callbacks that MUST be implemented\n",
    "* Generate implementations for different integrators (still abstract since no implementation of callbacks is provided)\n",
    "* Finalize the integrator by merging with a class that finally defines the callback functions\n",
    "* Generate concrete classes for each integrator"
   ]
  },
  {
   "cell_type": "code",
   "execution_count": 9,
   "metadata": {
    "collapsed": true
   },
   "outputs": [],
   "source": [
    "# IMPORTS\n",
    "from __future__ import division, print_function\n",
    "import matplotlib.pyplot as plt, numpy as np\n",
    "%matplotlib inline\n",
    "import PDSim.core.integrators as integrators # The abstract integrators with callback functions\n",
    "from PDSim.misc.datatypes import arraym # An optimized list-like object with rapid element-wise operators"
   ]
  },
  {
   "cell_type": "code",
   "execution_count": 10,
   "metadata": {
    "collapsed": true
   },
   "outputs": [],
   "source": [
    "class TestIntegrator(object):\n",
    "    \"\"\"\n",
    "    Implements the functions needed to satisfy the abstract base class requirements\n",
    "    \"\"\"\n",
    "\n",
    "    def __init__(self):\n",
    "        self.x, self.y = [], []\n",
    "\n",
    "    def post_deriv_callback(self): \n",
    "        \"\"\" Don't do anything after the first call is made to deriv function \"\"\"\n",
    "        pass\n",
    "\n",
    "    def premature_termination(self): \n",
    "        \"\"\" Don't ever stop prematurely \"\"\"\n",
    "        return False\n",
    "\n",
    "    def get_initial_array(self):\n",
    "        \"\"\" The array of initial values\"\"\"\n",
    "        return arraym([1.0])\n",
    "\n",
    "    def pre_step_callback(self): \n",
    "        if self.Itheta == 0:\n",
    "            self.x.append(self.t0)\n",
    "            self.y.append(self.xold[0])\n",
    "\n",
    "    def post_step_callback(self): \n",
    "        self.x.append(self.t0)\n",
    "        self.y.append(self.xold[0])\n",
    "\n",
    "    def derivs(self, t0, xold):\n",
    "        return arraym([xold[0]])\n",
    "            "
   ]
  },
  {
   "cell_type": "markdown",
   "metadata": {},
   "source": [
    "And now we define the actual concrete implementations of the integrators, which are formed of the common functions and the abstract integrator"
   ]
  },
  {
   "cell_type": "code",
   "execution_count": 11,
   "metadata": {
    "collapsed": true
   },
   "outputs": [],
   "source": [
    "class TestEulerIntegrator(TestIntegrator, integrators.AbstractSimpleEulerODEIntegrator):\n",
    "    \"\"\" Mixin class using the functions defined in TestIntegrator \"\"\"\n",
    "    pass\n",
    "\n",
    "class TestHeunIntegrator(TestIntegrator, integrators.AbstractHeunODEIntegrator):\n",
    "    \"\"\" Mixin class using the functions defined in TestIntegrator \"\"\"\n",
    "    pass\n",
    "\n",
    "class TestRK45Integrator(TestIntegrator, integrators.AbstractRK45ODEIntegrator):\n",
    "    \"\"\" Mixin class using the functions defined in TestIntegrator \"\"\"\n",
    "    pass\n",
    "    "
   ]
  },
  {
   "cell_type": "markdown",
   "metadata": {},
   "source": [
    "And now we actually implement the integrators, for a few different levels of precision.  Look how nicely RK45 fares!"
   ]
  },
  {
   "cell_type": "code",
   "execution_count": 13,
   "metadata": {
    "collapsed": false
   },
   "outputs": [
    {
     "data": {
      "image/png": "[encoded data removed]",
      "text/plain": [
       "<matplotlib.figure.Figure at 0x1b802e48>"
      ]
     },
     "metadata": {},
     "output_type": "display_data"
    }
   ],
   "source": [
    "for N in [4, 11, 21]:\n",
    "    TEI = TestEulerIntegrator()\n",
    "    TEI.do_integration(N, 0.0, 4.0)\n",
    "    plt.plot(TEI.x, TEI.y, 'o-', label = 'Euler: ' + str(N))\n",
    "\n",
    "for N in [4, 11]:\n",
    "    THI = TestHeunIntegrator()\n",
    "    THI.do_integration(N, 0.0, 4.0)\n",
    "    plt.plot(THI.x, THI.y, '*-', label = 'Heun: ' + str(N))\n",
    "\n",
    "TRKI = TestRK45Integrator()\n",
    "TRKI.do_integration(0.0, 4.0, eps_allowed = 1e-5)\n",
    "plt.plot(TRKI.x, TRKI.y, '^-', label = 'RK45')\n",
    "\n",
    "t = np.linspace(0, 4, 500)\n",
    "plt.plot(t, np.exp(t), 'k', lw = 1)\n",
    "lgnd = plt.legend(loc='best')"
   ]
  },
  {
   "cell_type": "code",
   "execution_count": null,
   "metadata": {
    "collapsed": true
   },
   "outputs": [],
   "source": []
  }
 ],
 "metadata": {
  "kernelspec": {
   "display_name": "Python 2",
   "language": "python",
   "name": "python2"
  },
  "language_info": {
   "codemirror_mode": {
    "name": "ipython",
    "version": 2
   },
   "file_extension": ".py",
   "mimetype": "text/x-python",
   "name": "python",
   "nbconvert_exporter": "python",
   "pygments_lexer": "ipython2",
   "version": "2.7.11"
  }
 },
 "nbformat": 4,
 "nbformat_minor": 0
}
