{
 "cells": [
  {
   "cell_type": "markdown",
   "metadata": {},
   "source": [
    "# Example of stiff ODE"
   ]
  },
  {
   "cell_type": "markdown",
   "metadata": {},
   "source": [
    "Consider the following ODE:\n",
    "\n",
    "$$\\frac{df}{dt} = f^2 - f^3$$\n",
    "\n",
    "We solve this ODE with the initial condition $f(0) = \\delta$ over the time interval from $t = 0$ to\n",
    "$t = 2/\\delta$. "
   ]
  },
  {
   "cell_type": "code",
   "execution_count": 41,
   "metadata": {
    "collapsed": true
   },
   "outputs": [],
   "source": [
    "## IMPORTS ##\n",
    "from __future__ import division, print_function\n",
    "import matplotlib.pyplot as plt, numpy as np\n",
    "%matplotlib inline\n",
    "import PDSim.core.integrators as integrators # The abstract integrators with callback functions\n",
    "from PDSim.misc.datatypes import arraym # An optimized list-like object with rapid element-wise operators"
   ]
  },
  {
   "cell_type": "code",
   "execution_count": 42,
   "metadata": {
    "collapsed": true
   },
   "outputs": [],
   "source": [
    "class TestIntegrator(object):\n",
    "    \"\"\"\n",
    "    Implements the functions needed to satisfy the abstract base class requirements\n",
    "    \"\"\"\n",
    "\n",
    "    def __init__(self):\n",
    "        self.x, self.y = [], []\n",
    "        \n",
    "\n",
    "    def post_deriv_callback(self): \n",
    "        \"\"\" Don't do anything after the first call is made to deriv function \"\"\"\n",
    "        pass\n",
    "\n",
    "    def premature_termination(self): \n",
    "        \"\"\" Don't ever stop prematurely \"\"\"\n",
    "        return False\n",
    "\n",
    "    def get_initial_array(self):\n",
    "        \"\"\" The array of initial values\"\"\"\n",
    "        return arraym([self.delta])\n",
    "\n",
    "    def pre_step_callback(self): \n",
    "        if self.Itheta == 0:\n",
    "            self.x.append(self.t0)\n",
    "            self.y.append(self.xold[0])\n",
    "\n",
    "    def post_step_callback(self): \n",
    "        self.x.append(self.t0)\n",
    "        self.y.append(self.xold[0])\n",
    "\n",
    "    def derivs(self, t0, xold):\n",
    "        \n",
    "        dfdt = xold[0]**2 - xold[0]**3\n",
    "        \n",
    "        return arraym([dfdt])\n",
    "            "
   ]
  },
  {
   "cell_type": "markdown",
   "metadata": {},
   "source": [
    "And now we define the actual concrete implementations of the integrators, which are formed of the common functions and the abstract integrator"
   ]
  },
  {
   "cell_type": "code",
   "execution_count": 43,
   "metadata": {
    "collapsed": false
   },
   "outputs": [],
   "source": [
    "class TestEulerIntegrator(TestIntegrator, integrators.AbstractSimpleEulerODEIntegrator):\n",
    "    \"\"\" Mixin class using the functions defined in TestIntegrator \"\"\"\n",
    "    pass\n",
    "\n",
    "class TestHeunIntegrator(TestIntegrator, integrators.AbstractHeunODEIntegrator):\n",
    "    \"\"\" Mixin class using the functions defined in TestIntegrator \"\"\"\n",
    "    pass\n",
    "\n",
    "class TestRK45Integrator(TestIntegrator, integrators.AbstractRK45ODEIntegrator):\n",
    "    \"\"\" Mixin class using the functions defined in TestIntegrator \"\"\"\n",
    "    pass\n",
    "    "
   ]
  },
  {
   "cell_type": "markdown",
   "metadata": {},
   "source": [
    "As an example,  we assume $\\delta = 0.01$. After the transition from 0 to 1, the time step is very small and the computation goes slowly. For smaller values of $\\delta$, the situation is even worse resulting in overflow. "
   ]
  },
  {
   "cell_type": "code",
   "execution_count": 44,
   "metadata": {
    "collapsed": false
   },
   "outputs": [
    {
     "data": {
      "image/png": "[encoded data removed]",
      "text/plain": [
       "<matplotlib.figure.Figure at 0xbe534d0>"
      ]
     },
     "metadata": {},
     "output_type": "display_data"
    }
   ],
   "source": [
    "delta = 0.01\n",
    "\n",
    "for N in [100]:\n",
    "    TEI = TestEulerIntegrator()\n",
    "    TEI.delta = delta\n",
    "    TEI.do_integration(N, 0.0, 2/delta)\n",
    "    plt.plot(TEI.x, TEI.y, 'o-', label = 'Euler: ' + str(N))\n",
    "\n",
    "for N in [100]:\n",
    "    THI = TestHeunIntegrator()\n",
    "    THI.delta = delta\n",
    "    THI.do_integration(N, 0.0, 2/delta)\n",
    "    plt.plot(THI.x, THI.y, '*-', label = 'Heun: ' + str(N))\n",
    "\n",
    "TRKI = TestRK45Integrator()\n",
    "TRKI.delta = delta\n",
    "TRKI.do_integration(0.0, 2/delta, eps_allowed = 1e-5)\n",
    "plt.plot(TRKI.x, TRKI.y, '^-', label = 'RK45')\n",
    "lgnd = plt.legend(loc='best')"
   ]
  }
 ],
 "metadata": {
  "kernelspec": {
   "display_name": "Python 2",
   "language": "python",
   "name": "python2"
  },
  "language_info": {
   "codemirror_mode": {
    "name": "ipython",
    "version": 2
   },
   "file_extension": ".py",
   "mimetype": "text/x-python",
   "name": "python",
   "nbconvert_exporter": "python",
   "pygments_lexer": "ipython2",
   "version": "2.7.5"
  }
 },
 "nbformat": 4,
 "nbformat_minor": 0
}
